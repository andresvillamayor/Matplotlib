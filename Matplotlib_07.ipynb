{
  "nbformat": 4,
  "nbformat_minor": 0,
  "metadata": {
    "colab": {
      "provenance": [],
      "authorship_tag": "ABX9TyMPYuYbBztdD3BATKcv++8e",
      "include_colab_link": true
    },
    "kernelspec": {
      "name": "python3",
      "display_name": "Python 3"
    },
    "language_info": {
      "name": "python"
    }
  },
  "cells": [
    {
      "cell_type": "markdown",
      "metadata": {
        "id": "view-in-github",
        "colab_type": "text"
      },
      "source": [
        "<a href=\"https://colab.research.google.com/github/andresvillamayor/Matplotlib/blob/main/Matplotlib_07.ipynb\" target=\"_parent\"><img src=\"https://colab.research.google.com/assets/colab-badge.svg\" alt=\"Open In Colab\"/></a>"
      ]
    },
    {
      "cell_type": "markdown",
      "source": [
        "MatplotLib\n",
        "\n",
        "Box Plot ( Caja de Bigotes)\n",
        "\n",
        "- En pocas palabras, resumen la distribución de datos numéricos mostrando los cuartiles, valores atípicos y posibles sesgos.\n",
        "- Proporcionan información sobre la dispersión de los datos, la tendencia central y la variabilidad.\n",
        "- Son especialmente útiles para identificar valores atípicos y comparar distribuciones.\n",
        "- Se puede usar plt.boxplot(data) para dibujar el diagrama de caja.\n",
        "- Se puede  personalizar la apariencia del cuadro y los valores atípicos usando boxprops y flierprops, utilizar vert=False para hacer el diagrama de caja horizontal y patch_artist=True para rellenar el cuadro con color.\"\n",
        "---\n",
        "- Uso de Datos Aleatorios\n",
        "---"
      ],
      "metadata": {
        "id": "Oczg296EBctT"
      }
    },
    {
      "cell_type": "code",
      "execution_count": 1,
      "metadata": {
        "id": "fTOMzIYEBYD9"
      },
      "outputs": [],
      "source": [
        "# Librerias\n",
        "import numpy as np\n",
        "import matplotlib.pyplot as plt"
      ]
    },
    {
      "cell_type": "code",
      "source": [
        "# Ejemplo\n",
        "# Generar datos con valores atipico\n",
        "np.random.seed(42) # los numeros aleatrios el seed toma de la misma semilla\n",
        "# data (array combinando dos conjuntos de datos generados )\n",
        "# np.random.normal(0,1,100) genera 100 numeros aleatorios como media 0 o desviacion estandar 1\n",
        "# np.random.normal(6,1,10) genera 10 numeros aleatorios con media 6 y desviacion estandar 1\n",
        "# Estos dos conjuntos de número aletorios se conbinan en un solo array utilizando np.concatenate\n",
        "data = np.concatenate ([np.random.normal (0,1,100),np.random.normal(6,1,10)])\n",
        "# Crea un diagrama de caja con valores atípicos\n",
        "#Creacion de la Figura\n",
        "# figsize = (8,6) el tamñano de la figura seria por defectos 8x6 pulgadas\n",
        "plt.figure(figsize = (8,6))\n",
        "# Parametros\n",
        "# data = El conjunto de datos que indica\n",
        "# vert = False ( este parametro indica si los boxplots de mostraran verticalemente True u horizontalmente = False)\n",
        "# patch_artist = True (Determina para rellenar los cuadros de boxplot)\n",
        "# boxprops = {'facecolor':'lightblue'} propiedades de los cuadros de boxplots, establece el cuadro el color de cuadros 'lightblue'\n",
        "# flierprops = {'marker' : o 'markerfacecolor: red } Estos son valores atípicos (outliers)\n",
        "plt.boxplot(data, vert=False,patch_artist=True, boxprops ={'facecolor':'lightblue'},flierprops={'marker':'o'\n",
        ", 'markerfacecolor' : 'red', 'markeredgecolor':'red'})\n",
        "# Agregar titulo y comentarios\n",
        "plt.xlabel ('Valor')\n",
        "plt.title('Diagrama de BoxPlot con Valores Atipicos')\n",
        "\n",
        "# Mostrar el diagrama\n",
        "plt.grid(True) # Muestra el grilla\n",
        "plt.show()\n"
      ],
      "metadata": {
        "id": "UF-eSEinCdCb",
        "colab": {
          "base_uri": "https://localhost:8080/",
          "height": 564
        },
        "outputId": "be123f95-0ae0-4abe-dc6a-f2566d11b11e"
      },
      "execution_count": 2,
      "outputs": [
        {
          "output_type": "display_data",
          "data": {
            "text/plain": [
              "<Figure size 800x600 with 1 Axes>"
            ],
            "image/png": "[encoded data removed]"
          },
          "metadata": {}
        }
      ]
    }
  ]
}